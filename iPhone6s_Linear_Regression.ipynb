{
 "cells": [
  {
   "cell_type": "code",
   "execution_count": 1,
   "metadata": {
    "collapsed": true
   },
   "outputs": [],
   "source": [
    "import graphlab"
   ]
  },
  {
   "cell_type": "code",
   "execution_count": 2,
   "metadata": {
    "collapsed": false
   },
   "outputs": [
    {
     "name": "stdout",
     "output_type": "stream",
     "text": [
      "This non-commercial license of GraphLab Create for academic use is assigned to 23imak@gmail.com and will expire on August 16, 2017.\n"
     ]
    },
    {
     "name": "stderr",
     "output_type": "stream",
     "text": [
      "[INFO] graphlab.cython.cy_server: GraphLab Create v2.1 started. Logging: /tmp/graphlab_server_1482866875.log\n"
     ]
    },
    {
     "data": {
      "text/html": [
       "<pre>Finished parsing file /home/maverick/Data Science/mob.csv</pre>"
      ],
      "text/plain": [
       "Finished parsing file /home/maverick/Data Science/mob.csv"
      ]
     },
     "metadata": {},
     "output_type": "display_data"
    },
    {
     "data": {
      "text/html": [
       "<pre>Parsing completed. Parsed 100 lines in 0.15131 secs.</pre>"
      ],
      "text/plain": [
       "Parsing completed. Parsed 100 lines in 0.15131 secs."
      ]
     },
     "metadata": {},
     "output_type": "display_data"
    },
    {
     "name": "stdout",
     "output_type": "stream",
     "text": [
      "------------------------------------------------------\n",
      "Inferred types from first 100 line(s) of file as \n",
      "column_type_hints=[int,float,int,int]\n",
      "If parsing fails due to incorrect types, you can correct\n",
      "the inferred type list above and pass it to read_csv in\n",
      "the column_type_hints argument\n",
      "------------------------------------------------------\n"
     ]
    },
    {
     "data": {
      "text/html": [
       "<pre>Finished parsing file /home/maverick/Data Science/mob.csv</pre>"
      ],
      "text/plain": [
       "Finished parsing file /home/maverick/Data Science/mob.csv"
      ]
     },
     "metadata": {},
     "output_type": "display_data"
    },
    {
     "data": {
      "text/html": [
       "<pre>Parsing completed. Parsed 179 lines in 0.118134 secs.</pre>"
      ],
      "text/plain": [
       "Parsing completed. Parsed 179 lines in 0.118134 secs."
      ]
     },
     "metadata": {},
     "output_type": "display_data"
    }
   ],
   "source": [
    "data = graphlab.SFrame('mob.csv')"
   ]
  },
  {
   "cell_type": "code",
   "execution_count": 6,
   "metadata": {
    "collapsed": false
   },
   "outputs": [
    {
     "name": "stdout",
     "output_type": "stream",
     "text": [
      "+----------+------------------+------+----------------------+\n",
      "| sessions | avg_session_time | damu | max_usage_per_minute |\n",
      "+----------+------------------+------+----------------------+\n",
      "|   2609   |  308.309313913   | 3528 |          27          |\n",
      "|   525    |  296.975238095   | 612  |          7           |\n",
      "|   426    |  331.070422535   | 582  |          7           |\n",
      "|   2286   |   340.57480315   | 2915 |          29          |\n",
      "|   3055   |  327.703764321   | 4053 |          28          |\n",
      "|   2904   |  325.964187328   | 3941 |          28          |\n",
      "|   3244   |  338.630394575   | 4154 |          40          |\n",
      "|   2849   |   314.2004212    | 3776 |          29          |\n",
      "|   550    |  267.296363636   | 644  |          8           |\n",
      "|   476    |  312.605042017   | 606  |          7           |\n",
      "+----------+------------------+------+----------------------+\n",
      "[179 rows x 4 columns]\n",
      "Note: Only the head of the SFrame is printed.\n",
      "You can use print_rows(num_rows=m, num_columns=n) to print more rows and columns.\n"
     ]
    }
   ],
   "source": [
    "print data"
   ]
  },
  {
   "cell_type": "code",
   "execution_count": 7,
   "metadata": {
    "collapsed": false
   },
   "outputs": [
    {
     "data": {
      "application/javascript": [
       "$(\"head\").append($(\"<link/>\").attr({\n",
       "  rel:  \"stylesheet\",\n",
       "  type: \"text/css\",\n",
       "  href: \"//cdnjs.cloudflare.com/ajax/libs/font-awesome/4.1.0/css/font-awesome.min.css\"\n",
       "}));\n",
       "$(\"head\").append($(\"<link/>\").attr({\n",
       "  rel:  \"stylesheet\",\n",
       "  type: \"text/css\",\n",
       "  href: \"https://static.turi.com/products/graphlab-create/2.1/canvas/css/canvas.css\"\n",
       "}));\n",
       "\n",
       "            (function(){\n",
       "\n",
       "                var e = null;\n",
       "                if (typeof element == 'undefined') {\n",
       "                    var scripts = document.getElementsByTagName('script');\n",
       "                    var thisScriptTag = scripts[scripts.length-1];\n",
       "                    var parentDiv = thisScriptTag.parentNode;\n",
       "                    e = document.createElement('div');\n",
       "                    parentDiv.appendChild(e);\n",
       "                } else {\n",
       "                    e = element[0];\n",
       "                }\n",
       "\n",
       "                if (typeof requirejs !== 'undefined') {\n",
       "                    // disable load timeout; ipython_app.js is large and can take a while to load.\n",
       "                    requirejs.config({waitSeconds: 0});\n",
       "                }\n",
       "\n",
       "                require(['https://static.turi.com/products/graphlab-create/2.1/canvas/js/ipython_app.js'], function(IPythonApp){\n",
       "                    var app = new IPythonApp();\n",
       "                    app.attachView('sframe','Plots', {\"selected_variable\": {\"name\": [\"data\"], \"descriptives\": {\"rows\": 179, \"columns\": 4}, \"view_component\": \"Plots\", \"view_file\": \"sframe\", \"view_params\": {\"y\": \"max_usage_per_minute\", \"x\": \"sessions\", \"columns\": [\"sessions\", \"avg_session_time\", \"damu\", \"max_usage_per_minute\"], \"view\": \"Scatter Plot\"}, \"view_components\": [\"Summary\", \"Table\", \"Bar Chart\", \"BoxWhisker Plot\", \"Line Chart\", \"Scatter Plot\", \"Heat Map\", \"Plots\"], \"type\": \"SFrame\", \"columns\": [{\"dtype\": \"int\", \"name\": \"sessions\"}, {\"dtype\": \"float\", \"name\": \"avg_session_time\"}, {\"dtype\": \"int\", \"name\": \"damu\"}, {\"dtype\": \"int\", \"name\": \"max_usage_per_minute\"}], \"column_identifiers\": [\"sessions\", \"avg_session_time\", \"max_usage_per_minute\", \"damu\"]}, \"complete\": 1, \"ipython\": true, \"progress\": 1.0, \"data\": [[2609, 27], [525, 7], [426, 7], [2286, 29], [3055, 28], [2904, 28], [3244, 40], [2849, 29], [550, 8], [476, 7], [3210, 36], [3462, 38], [3510, 37], [3380, 35], [3127, 31], [727, 9], [504, 7], [3572, 37], [3735, 36], [3740, 36], [3758, 35], [3298, 36], [607, 9], [455, 7], [4020, 37], [3409, 37], [3561, 34], [3470, 31], [2931, 26], [652, 9], [469, 8], [3247, 38], [4098, 38], [4103, 34], [4633, 45], [3496, 35], [610, 11], [438, 8], [3697, 34], [4198, 38], [4039, 42], [3958, 34], [3451, 39], [562, 7], [552, 8], [3065, 26], [3612, 36], [3587, 33], [3863, 39], [3515, 36], [623, 10], [568, 8], [3934, 35], [4099, 43], [3865, 41], [4242, 40], [3731, 38], [687, 12], [515, 9], [3627, 30], [4268, 39], [4363, 40], [4008, 40], [3590, 37], [705, 9], [534, 9], [2679, 32], [3731, 32], [4250, 39], [4209, 34], [3734, 36], [833, 8], [682, 13], [3729, 35], [4164, 40], [4160, 42], [4082, 40], [3779, 37], [858, 10], [681, 9], [4327, 41], [5443, 45], [4330, 41], [4306, 41], [3935, 42], [694, 11], [703, 9], [4155, 43], [4314, 42], [4253, 43], [4143, 42], [3725, 36], [775, 12], [617, 9], [3672, 40], [3902, 39], [4331, 45], [4168, 41], [3619, 38], [772, 10], [618, 7], [3577, 40], [3465, 39], [3996, 36], [3996, 40], [3349, 37], [697, 10], [635, 8], [4130, 42], [4520, 39], [4042, 39], [4148, 37], [3502, 36], [738, 9], [568, 9], [4018, 36], [4017, 40], [4274, 40], [4379, 38], [3665, 35], [618, 8], [614, 8], [3645, 34], [3575, 30], [4221, 41], [4572, 38], [3985, 36], [884, 9], [669, 11], [4426, 36], [4733, 39], [3999, 36], [4112, 43], [3176, 30], [652, 9], [712, 11], [3847, 39], [4366, 38], [4087, 41], [3974, 40], [3791, 36], [791, 11], [693, 9], [3967, 39], [4184, 39], [3690, 44], [3242, 35], [2828, 34], [590, 8], [565, 9], [4120, 40], [4201, 39], [3969, 34], [4100, 41], [3583, 30], [561, 11], [573, 9], [3925, 34], [3841, 38], [3891, 37], [3899, 36], [3594, 35], [555, 7], [608, 9], [3659, 38], [4343, 39], [4205, 36], [4085, 35], [3365, 30], [705, 9], [649, 8], [3695, 34], [3749, 35], [3723, 40], [3426, 32], [2587, 24], [420, 5], [362, 5], [1306, 16]], \"columns\": [{\"dtype\": \"int\", \"name\": \"sessions\"}, {\"dtype\": \"float\", \"name\": \"avg_session_time\"}, {\"dtype\": \"int\", \"name\": \"damu\"}, {\"dtype\": \"int\", \"name\": \"max_usage_per_minute\"}]}, e);\n",
       "                });\n",
       "            })();\n",
       "        "
      ]
     },
     "metadata": {},
     "output_type": "display_data"
    }
   ],
   "source": [
    "graphlab.canvas.set_target('ipynb')\n",
    "data.show(view = \"Scatter Plot\",x=\"sessions\",y=\"max_usage_per_minute\")"
   ]
  },
  {
   "cell_type": "markdown",
   "metadata": {},
   "source": [
    "## Splitting data into train and test"
   ]
  },
  {
   "cell_type": "code",
   "execution_count": 8,
   "metadata": {
    "collapsed": true
   },
   "outputs": [],
   "source": [
    "train_data,test_data = data.random_split(.8,seed=0)"
   ]
  },
  {
   "cell_type": "markdown",
   "metadata": {},
   "source": [
    "## Creating model to with only one feature (sessions)"
   ]
  },
  {
   "cell_type": "code",
   "execution_count": 9,
   "metadata": {
    "collapsed": false
   },
   "outputs": [
    {
     "name": "stdout",
     "output_type": "stream",
     "text": [
      "PROGRESS: Creating a validation set from 5 percent of training data. This may take a while.\n",
      "          You can set ``validation_set=None`` to disable validation tracking.\n",
      "\n"
     ]
    },
    {
     "data": {
      "text/html": [
       "<pre>Linear regression:</pre>"
      ],
      "text/plain": [
       "Linear regression:"
      ]
     },
     "metadata": {},
     "output_type": "display_data"
    },
    {
     "data": {
      "text/html": [
       "<pre>--------------------------------------------------------</pre>"
      ],
      "text/plain": [
       "--------------------------------------------------------"
      ]
     },
     "metadata": {},
     "output_type": "display_data"
    },
    {
     "data": {
      "text/html": [
       "<pre>Number of examples          : 142</pre>"
      ],
      "text/plain": [
       "Number of examples          : 142"
      ]
     },
     "metadata": {},
     "output_type": "display_data"
    },
    {
     "data": {
      "text/html": [
       "<pre>Number of features          : 1</pre>"
      ],
      "text/plain": [
       "Number of features          : 1"
      ]
     },
     "metadata": {},
     "output_type": "display_data"
    },
    {
     "data": {
      "text/html": [
       "<pre>Number of unpacked features : 1</pre>"
      ],
      "text/plain": [
       "Number of unpacked features : 1"
      ]
     },
     "metadata": {},
     "output_type": "display_data"
    },
    {
     "data": {
      "text/html": [
       "<pre>Number of coefficients    : 2</pre>"
      ],
      "text/plain": [
       "Number of coefficients    : 2"
      ]
     },
     "metadata": {},
     "output_type": "display_data"
    },
    {
     "data": {
      "text/html": [
       "<pre>Starting Newton Method</pre>"
      ],
      "text/plain": [
       "Starting Newton Method"
      ]
     },
     "metadata": {},
     "output_type": "display_data"
    },
    {
     "data": {
      "text/html": [
       "<pre>--------------------------------------------------------</pre>"
      ],
      "text/plain": [
       "--------------------------------------------------------"
      ]
     },
     "metadata": {},
     "output_type": "display_data"
    },
    {
     "data": {
      "text/html": [
       "<pre>+-----------+----------+--------------+--------------------+----------------------+---------------+-----------------+</pre>"
      ],
      "text/plain": [
       "+-----------+----------+--------------+--------------------+----------------------+---------------+-----------------+"
      ]
     },
     "metadata": {},
     "output_type": "display_data"
    },
    {
     "data": {
      "text/html": [
       "<pre>| Iteration | Passes   | Elapsed Time | Training-max_error | Validation-max_error | Training-rmse | Validation-rmse |</pre>"
      ],
      "text/plain": [
       "| Iteration | Passes   | Elapsed Time | Training-max_error | Validation-max_error | Training-rmse | Validation-rmse |"
      ]
     },
     "metadata": {},
     "output_type": "display_data"
    },
    {
     "data": {
      "text/html": [
       "<pre>+-----------+----------+--------------+--------------------+----------------------+---------------+-----------------+</pre>"
      ],
      "text/plain": [
       "+-----------+----------+--------------+--------------------+----------------------+---------------+-----------------+"
      ]
     },
     "metadata": {},
     "output_type": "display_data"
    },
    {
     "data": {
      "text/html": [
       "<pre>| 1         | 2        | 1.036106     | 8.271806           | 4.428036             | 2.665529      | 2.732647        |</pre>"
      ],
      "text/plain": [
       "| 1         | 2        | 1.036106     | 8.271806           | 4.428036             | 2.665529      | 2.732647        |"
      ]
     },
     "metadata": {},
     "output_type": "display_data"
    },
    {
     "data": {
      "text/html": [
       "<pre>+-----------+----------+--------------+--------------------+----------------------+---------------+-----------------+</pre>"
      ],
      "text/plain": [
       "+-----------+----------+--------------+--------------------+----------------------+---------------+-----------------+"
      ]
     },
     "metadata": {},
     "output_type": "display_data"
    },
    {
     "data": {
      "text/html": [
       "<pre>SUCCESS: Optimal solution found.</pre>"
      ],
      "text/plain": [
       "SUCCESS: Optimal solution found."
      ]
     },
     "metadata": {},
     "output_type": "display_data"
    },
    {
     "data": {
      "text/html": [
       "<pre></pre>"
      ],
      "text/plain": []
     },
     "metadata": {},
     "output_type": "display_data"
    }
   ],
   "source": [
    "model = graphlab.linear_regression.create(train_data,target='max_usage_per_minute',features=['sessions'])"
   ]
  },
  {
   "cell_type": "code",
   "execution_count": 10,
   "metadata": {
    "collapsed": false
   },
   "outputs": [
    {
     "name": "stdout",
     "output_type": "stream",
     "text": [
      "{'max_error': 5.943234612298475, 'rmse': 2.9283343410423415}\n"
     ]
    }
   ],
   "source": [
    "print model.evaluate(test_data)"
   ]
  },
  {
   "cell_type": "markdown",
   "metadata": {},
   "source": [
    "## Model plotted with actual data"
   ]
  },
  {
   "cell_type": "code",
   "execution_count": 11,
   "metadata": {
    "collapsed": true
   },
   "outputs": [],
   "source": [
    "import matplotlib.pyplot as plt\n",
    "%matplotlib inline"
   ]
  },
  {
   "cell_type": "code",
   "execution_count": 13,
   "metadata": {
    "collapsed": false
   },
   "outputs": [
    {
     "data": {
      "text/plain": [
       "[<matplotlib.lines.Line2D at 0x7f1dbc3e2e10>,\n",
       " <matplotlib.lines.Line2D at 0x7f1dbc3e2ed0>]"
      ]
     },
     "execution_count": 13,
     "metadata": {},
     "output_type": "execute_result"
    },
    {
     "data": {
      "image/png": "[encoded data removed]",
      "text/plain": [
       "<matplotlib.figure.Figure at 0x7f1dbd7e4750>"
      ]
     },
     "metadata": {},
     "output_type": "display_data"
    }
   ],
   "source": [
    "plt.plot(test_data['sessions'],test_data['max_usage_per_minute'],'.',\n",
    "        test_data['sessions'],model.predict(test_data),'-')"
   ]
  },
  {
   "cell_type": "code",
   "execution_count": 15,
   "metadata": {
    "collapsed": false
   },
   "outputs": [
    {
     "data": {
      "text/html": [
       "<div style=\"max-height:1000px;max-width:1500px;overflow:auto;\"><table frame=\"box\" rules=\"cols\">\n",
       "    <tr>\n",
       "        <th style=\"padding-left: 1em; padding-right: 1em; text-align: center\">name</th>\n",
       "        <th style=\"padding-left: 1em; padding-right: 1em; text-align: center\">index</th>\n",
       "        <th style=\"padding-left: 1em; padding-right: 1em; text-align: center\">value</th>\n",
       "        <th style=\"padding-left: 1em; padding-right: 1em; text-align: center\">stderr</th>\n",
       "    </tr>\n",
       "    <tr>\n",
       "        <td style=\"padding-left: 1em; padding-right: 1em; text-align: center; vertical-align: top\">(intercept)</td>\n",
       "        <td style=\"padding-left: 1em; padding-right: 1em; text-align: center; vertical-align: top\">None</td>\n",
       "        <td style=\"padding-left: 1em; padding-right: 1em; text-align: center; vertical-align: top\">3.70109715996</td>\n",
       "        <td style=\"padding-left: 1em; padding-right: 1em; text-align: center; vertical-align: top\">0.471127322598</td>\n",
       "    </tr>\n",
       "    <tr>\n",
       "        <td style=\"padding-left: 1em; padding-right: 1em; text-align: center; vertical-align: top\">sessions</td>\n",
       "        <td style=\"padding-left: 1em; padding-right: 1em; text-align: center; vertical-align: top\">None</td>\n",
       "        <td style=\"padding-left: 1em; padding-right: 1em; text-align: center; vertical-align: top\">0.00867942999308</td>\n",
       "        <td style=\"padding-left: 1em; padding-right: 1em; text-align: center; vertical-align: top\">0.000148141932915</td>\n",
       "    </tr>\n",
       "</table>\n",
       "[2 rows x 4 columns]<br/>\n",
       "</div>"
      ],
      "text/plain": [
       "Columns:\n",
       "\tname\tstr\n",
       "\tindex\tstr\n",
       "\tvalue\tfloat\n",
       "\tstderr\tfloat\n",
       "\n",
       "Rows: 2\n",
       "\n",
       "Data:\n",
       "+-------------+-------+------------------+-------------------+\n",
       "|     name    | index |      value       |       stderr      |\n",
       "+-------------+-------+------------------+-------------------+\n",
       "| (intercept) |  None |  3.70109715996   |   0.471127322598  |\n",
       "|   sessions  |  None | 0.00867942999308 | 0.000148141932915 |\n",
       "+-------------+-------+------------------+-------------------+\n",
       "[2 rows x 4 columns]"
      ]
     },
     "execution_count": 15,
     "metadata": {},
     "output_type": "execute_result"
    }
   ],
   "source": [
    "model.get('coefficients')"
   ]
  },
  {
   "cell_type": "markdown",
   "metadata": {},
   "source": [
    "## Adding Other features"
   ]
  },
  {
   "cell_type": "code",
   "execution_count": 16,
   "metadata": {
    "collapsed": true
   },
   "outputs": [],
   "source": [
    "new_features = ['avg_session_time', 'damu']"
   ]
  },
  {
   "cell_type": "code",
   "execution_count": 18,
   "metadata": {
    "collapsed": false
   },
   "outputs": [
    {
     "data": {
      "application/javascript": [
       "$(\"head\").append($(\"<link/>\").attr({\n",
       "  rel:  \"stylesheet\",\n",
       "  type: \"text/css\",\n",
       "  href: \"//cdnjs.cloudflare.com/ajax/libs/font-awesome/4.1.0/css/font-awesome.min.css\"\n",
       "}));\n",
       "$(\"head\").append($(\"<link/>\").attr({\n",
       "  rel:  \"stylesheet\",\n",
       "  type: \"text/css\",\n",
       "  href: \"https://static.turi.com/products/graphlab-create/2.1/canvas/css/canvas.css\"\n",
       "}));\n",
       "\n",
       "            (function(){\n",
       "\n",
       "                var e = null;\n",
       "                if (typeof element == 'undefined') {\n",
       "                    var scripts = document.getElementsByTagName('script');\n",
       "                    var thisScriptTag = scripts[scripts.length-1];\n",
       "                    var parentDiv = thisScriptTag.parentNode;\n",
       "                    e = document.createElement('div');\n",
       "                    parentDiv.appendChild(e);\n",
       "                } else {\n",
       "                    e = element[0];\n",
       "                }\n",
       "\n",
       "                if (typeof requirejs !== 'undefined') {\n",
       "                    // disable load timeout; ipython_app.js is large and can take a while to load.\n",
       "                    requirejs.config({waitSeconds: 0});\n",
       "                }\n",
       "\n",
       "                require(['https://static.turi.com/products/graphlab-create/2.1/canvas/js/ipython_app.js'], function(IPythonApp){\n",
       "                    var app = new IPythonApp();\n",
       "                    app.attachView('sframe','Summary', {\"ipython\": true, \"sketch\": {\"avg_session_time\": {\"std\": 23.54307843469198, \"complete\": true, \"min\": 232.639158576051, \"max\": 351.790322580645, \"quantile\": [232.639158576051, 241.947882736156, 246.313202247191, 247.883802816901, 254.272566371681, 255.107858243451, 257.816500711237, 262.490867579908, 264.411602209944, 266.023749714546, 267.076368159204, 267.296363636363, 268.498127340823, 269.881057268722, 272.404855643044, 272.493721866856, 274.196731054977, 276.990967741935, 277.225460122699, 277.823839397741, 277.889570552147, 279.406878802058, 280.38195004029, 280.991882489369, 281.413279132791, 282.036827835517, 283.157212317666, 284.595838433292, 285.645482388973, 285.891418563922, 287.491937687892, 288.240093240093, 288.693259972489, 288.953021776364, 290.006642235455, 290.05963764469, 290.665048543689, 292.481054365733, 292.818959372772, 293.618755233044, 294.546030071221, 295.358508604206, 296.975238095238, 297.072926829268, 297.632726340087, 298.022047244094, 298.617437722419, 299.492219020172, 299.884808013355, 300.211956521739, 301.127188715953, 302.280171387764, 303.387837589564, 303.796301259715, 304.412566844919, 305.196036422067, 305.910169491525, 306.162005542957, 306.196605374823, 307.073770491803, 308.237094199042, 309.244552058111, 309.293708165997, 309.41645605167, 310.884828349944, 312.180571108622, 313.305639781685, 314.200421200421, 314.453694817658, 314.916106547174, 315.169479267116, 315.539533637094, 316.346850108616, 316.644599303135, 317.946588235294, 318.278867102396, 319.587839586028, 319.936219336219, 320.077319587628, 320.382818791946, 321.335136597241, 321.674864095262, 321.800214534727, 322.492753623188, 323.539494723377, 323.872616744957, 324.135605006954, 325.033718244803, 325.252502502502, 325.964187327823, 327.217732625259, 327.703764320785, 328.985236768802, 329.732701178882, 330.988620529493, 331.070422535211, 331.97135980746, 334.042306577803, 338.636930899006, 340.574803149606, 351.790322580645], \"median\": 301.127188715953, \"numeric\": true, \"num_unique\": 179, \"num_undefined\": 0, \"var\": 554.2765421820586, \"progress\": 1.0, \"size\": 179, \"frequent_items\": {\"325.252502502502\": {\"frequency\": 1, \"value\": 325.252502502502}, \"276.990967741935\": {\"frequency\": 1, \"value\": 276.990967741935}, \"246.54834054834\": {\"frequency\": 1, \"value\": 246.54834054834}, \"246.313202247191\": {\"frequency\": 1, \"value\": 246.313202247191}, \"285.891418563922\": {\"frequency\": 1, \"value\": 285.891418563922}, \"303.133915574963\": {\"frequency\": 1, \"value\": 303.133915574963}, \"283.686528497409\": {\"frequency\": 1, \"value\": 283.686528497409}, \"330.257451923076\": {\"frequency\": 1, \"value\": 330.257451923076}, \"298.617437722419\": {\"frequency\": 1, \"value\": 298.617437722419}, \"320.382818791946\": {\"frequency\": 1, \"value\": 320.382818791946}, \"309.293708165997\": {\"frequency\": 1, \"value\": 309.293708165997}, \"328.985236768802\": {\"frequency\": 1, \"value\": 328.985236768802}, \"264.411602209944\": {\"frequency\": 1, \"value\": 264.411602209944}, \"299.347543540421\": {\"frequency\": 1, \"value\": 299.347543540421}, \"294.546030071221\": {\"frequency\": 1, \"value\": 294.546030071221}, \"283.093028275415\": {\"frequency\": 1, \"value\": 283.093028275415}, \"306.875499714448\": {\"frequency\": 1, \"value\": 306.875499714448}, \"286.071301247771\": {\"frequency\": 1, \"value\": 286.071301247771}, \"305.910169491525\": {\"frequency\": 1, \"value\": 305.910169491525}, \"241.947882736156\": {\"frequency\": 1, \"value\": 241.947882736156}, \"262.490867579908\": {\"frequency\": 1, \"value\": 262.490867579908}, \"306.162005542957\": {\"frequency\": 1, \"value\": 306.162005542957}, \"296.975238095238\": {\"frequency\": 1, \"value\": 296.975238095238}, \"288.953021776364\": {\"frequency\": 1, \"value\": 288.953021776364}, \"255.380258899676\": {\"frequency\": 1, \"value\": 255.380258899676}, \"302.280171387764\": {\"frequency\": 1, \"value\": 302.280171387764}, \"303.387837589564\": {\"frequency\": 1, \"value\": 303.387837589564}, \"331.025899610359\": {\"frequency\": 1, \"value\": 331.025899610359}, \"297.972679119041\": {\"frequency\": 1, \"value\": 297.972679119041}, \"314.531437125748\": {\"frequency\": 1, \"value\": 314.531437125748}, \"338.630394574599\": {\"frequency\": 1, \"value\": 338.630394574599}, \"252.8\": {\"frequency\": 1, \"value\": 252.8}, \"318.18520625889\": {\"frequency\": 1, \"value\": 318.18520625889}, \"287.66213592233\": {\"frequency\": 1, \"value\": 287.66213592233}, \"325.033718244803\": {\"frequency\": 1, \"value\": 325.033718244803}, \"290.179104477611\": {\"frequency\": 1, \"value\": 290.179104477611}, \"247.883802816901\": {\"frequency\": 1, \"value\": 247.883802816901}, \"327.703764320785\": {\"frequency\": 1, \"value\": 327.703764320785}, \"312.180571108622\": {\"frequency\": 1, \"value\": 312.180571108622}, \"315.169479267116\": {\"frequency\": 1, \"value\": 315.169479267116}, \"305.405669366364\": {\"frequency\": 1, \"value\": 305.405669366364}, \"329.359339263024\": {\"frequency\": 1, \"value\": 329.359339263024}, \"299.492219020172\": {\"frequency\": 1, \"value\": 299.492219020172}, \"328.830720235178\": {\"frequency\": 1, \"value\": 328.830720235178}, \"277.718538565629\": {\"frequency\": 1, \"value\": 277.718538565629}, \"308.237094199042\": {\"frequency\": 1, \"value\": 308.237094199042}, \"323.640537513997\": {\"frequency\": 1, \"value\": 323.640537513997}, \"329.732701178882\": {\"frequency\": 1, \"value\": 329.732701178882}, \"321.062657908034\": {\"frequency\": 1, \"value\": 321.062657908034}, \"303.796301259715\": {\"frequency\": 1, \"value\": 303.796301259715}, \"315.363246785984\": {\"frequency\": 1, \"value\": 315.363246785984}, \"290.05963764469\": {\"frequency\": 1, \"value\": 290.05963764469}, \"272.230263157894\": {\"frequency\": 1, \"value\": 272.230263157894}, \"316.594154948993\": {\"frequency\": 1, \"value\": 316.594154948993}, \"263.474892395982\": {\"frequency\": 1, \"value\": 263.474892395982}, \"351.790322580645\": {\"frequency\": 1, \"value\": 351.790322580645}, \"307.073770491803\": {\"frequency\": 1, \"value\": 307.073770491803}, \"326.276897214217\": {\"frequency\": 1, \"value\": 326.276897214217}, \"299.884808013355\": {\"frequency\": 1, \"value\": 299.884808013355}, \"300.211956521739\": {\"frequency\": 1, \"value\": 300.211956521739}, \"244.661764705882\": {\"frequency\": 1, \"value\": 244.661764705882}, \"321.800214534727\": {\"frequency\": 1, \"value\": 321.800214534727}, \"311.289716926632\": {\"frequency\": 1, \"value\": 311.289716926632}, \"277.889570552147\": {\"frequency\": 1, \"value\": 277.889570552147}, \"292.118086696562\": {\"frequency\": 1, \"value\": 292.118086696562}, \"309.351851851851\": {\"frequency\": 1, \"value\": 309.351851851851}, \"275.069503546099\": {\"frequency\": 1, \"value\": 275.069503546099}, \"295.851974522293\": {\"frequency\": 1, \"value\": 295.851974522293}, \"331.97135980746\": {\"frequency\": 1, \"value\": 331.97135980746}, \"316.346850108616\": {\"frequency\": 1, \"value\": 316.346850108616}, \"319.982714794102\": {\"frequency\": 1, \"value\": 319.982714794102}, \"320.077319587628\": {\"frequency\": 1, \"value\": 320.077319587628}, \"268.809009009009\": {\"frequency\": 1, \"value\": 268.809009009009}, \"268.248951048951\": {\"frequency\": 1, \"value\": 268.248951048951}, \"290.006642235455\": {\"frequency\": 1, \"value\": 290.006642235455}, \"297.072926829268\": {\"frequency\": 1, \"value\": 297.072926829268}, \"265.034842249657\": {\"frequency\": 1, \"value\": 265.034842249657}, \"280.924369747899\": {\"frequency\": 1, \"value\": 280.924369747899}, \"321.335136597241\": {\"frequency\": 1, \"value\": 321.335136597241}, \"258.260429835651\": {\"frequency\": 1, \"value\": 258.260429835651}, \"317.946588235294\": {\"frequency\": 1, \"value\": 317.946588235294}, \"290.665048543689\": {\"frequency\": 1, \"value\": 290.665048543689}, \"282.009822646657\": {\"frequency\": 1, \"value\": 282.009822646657}, \"323.872616744957\": {\"frequency\": 1, \"value\": 323.872616744957}, \"318.278867102396\": {\"frequency\": 1, \"value\": 318.278867102396}, \"321.674864095262\": {\"frequency\": 1, \"value\": 321.674864095262}, \"310.246031746031\": {\"frequency\": 1, \"value\": 310.246031746031}, \"288.705260933868\": {\"frequency\": 1, \"value\": 288.705260933868}, \"280.991882489369\": {\"frequency\": 1, \"value\": 280.991882489369}, \"309.244552058111\": {\"frequency\": 1, \"value\": 309.244552058111}, \"312.605042016806\": {\"frequency\": 1, \"value\": 312.605042016806}, \"319.936219336219\": {\"frequency\": 1, \"value\": 319.936219336219}, \"310.884828349944\": {\"frequency\": 1, \"value\": 310.884828349944}, \"317.275577557755\": {\"frequency\": 1, \"value\": 317.275577557755}, \"323.539494723377\": {\"frequency\": 1, \"value\": 323.539494723377}, \"304.436712846347\": {\"frequency\": 1, \"value\": 304.436712846347}, \"316.644599303135\": {\"frequency\": 1, \"value\": 316.644599303135}, \"272.493721866856\": {\"frequency\": 1, \"value\": 272.493721866856}, \"334.042306577803\": {\"frequency\": 1, \"value\": 334.042306577803}, \"272.404855643044\": {\"frequency\": 1, \"value\": 272.404855643044}, \"319.587839586028\": {\"frequency\": 1, \"value\": 319.587839586028}, \"281.413279132791\": {\"frequency\": 1, \"value\": 281.413279132791}, \"301.127188715953\": {\"frequency\": 1, \"value\": 301.127188715953}, \"306.196605374823\": {\"frequency\": 1, \"value\": 306.196605374823}, \"308.163159197821\": {\"frequency\": 1, \"value\": 308.163159197821}, \"277.823839397741\": {\"frequency\": 1, \"value\": 277.823839397741}, \"267.076368159204\": {\"frequency\": 1, \"value\": 267.076368159204}, \"298.022047244094\": {\"frequency\": 1, \"value\": 298.022047244094}, \"274.196731054977\": {\"frequency\": 1, \"value\": 274.196731054977}, \"325.964187327823\": {\"frequency\": 1, \"value\": 325.964187327823}, \"325.219658119658\": {\"frequency\": 1, \"value\": 325.219658119658}, \"266.023749714546\": {\"frequency\": 1, \"value\": 266.023749714546}, \"322.492753623188\": {\"frequency\": 1, \"value\": 322.492753623188}, \"314.297197412996\": {\"frequency\": 1, \"value\": 314.297197412996}, \"309.41645605167\": {\"frequency\": 1, \"value\": 309.41645605167}, \"285.305494505494\": {\"frequency\": 1, \"value\": 285.305494505494}, \"327.217732625259\": {\"frequency\": 1, \"value\": 327.217732625259}, \"314.453694817658\": {\"frequency\": 1, \"value\": 314.453694817658}, \"338.667318982387\": {\"frequency\": 1, \"value\": 338.667318982387}, \"282.036827835517\": {\"frequency\": 1, \"value\": 282.036827835517}, \"303.919031502213\": {\"frequency\": 1, \"value\": 303.919031502213}, \"288.693259972489\": {\"frequency\": 1, \"value\": 288.693259972489}, \"267.204188481675\": {\"frequency\": 1, \"value\": 267.204188481675}, \"295.162540635158\": {\"frequency\": 1, \"value\": 295.162540635158}, \"294.305873750914\": {\"frequency\": 1, \"value\": 294.305873750914}, \"254.272566371681\": {\"frequency\": 1, \"value\": 254.272566371681}, \"269.881057268722\": {\"frequency\": 1, \"value\": 269.881057268722}, \"338.636930899006\": {\"frequency\": 1, \"value\": 338.636930899006}, \"297.280608162176\": {\"frequency\": 1, \"value\": 297.280608162176}, \"314.916106547174\": {\"frequency\": 1, \"value\": 314.916106547174}, \"304.412566844919\": {\"frequency\": 1, \"value\": 304.412566844919}, \"320.261444826673\": {\"frequency\": 1, \"value\": 320.261444826673}, \"297.632726340087\": {\"frequency\": 1, \"value\": 297.632726340087}, \"324.372773847279\": {\"frequency\": 1, \"value\": 324.372773847279}, \"315.12831858407\": {\"frequency\": 1, \"value\": 315.12831858407}, \"318.539644970414\": {\"frequency\": 1, \"value\": 318.539644970414}, \"257.816500711237\": {\"frequency\": 1, \"value\": 257.816500711237}, \"280.345065398335\": {\"frequency\": 1, \"value\": 280.345065398335}, \"330.988620529493\": {\"frequency\": 1, \"value\": 330.988620529493}, \"340.574803149606\": {\"frequency\": 1, \"value\": 340.574803149606}, \"285.645482388973\": {\"frequency\": 1, \"value\": 285.645482388973}, \"292.481054365733\": {\"frequency\": 1, \"value\": 292.481054365733}, \"277.9\": {\"frequency\": 1, \"value\": 277.9}, \"313.305639781685\": {\"frequency\": 1, \"value\": 313.305639781685}, \"321.723364485981\": {\"frequency\": 1, \"value\": 321.723364485981}, \"273.198951264651\": {\"frequency\": 1, \"value\": 273.198951264651}, \"267.296363636363\": {\"frequency\": 1, \"value\": 267.296363636363}, \"290.008645533141\": {\"frequency\": 1, \"value\": 290.008645533141}, \"232.639158576051\": {\"frequency\": 1, \"value\": 232.639158576051}, \"293.618755233044\": {\"frequency\": 1, \"value\": 293.618755233044}, \"288.240093240093\": {\"frequency\": 1, \"value\": 288.240093240093}, \"314.200421200421\": {\"frequency\": 1, \"value\": 314.200421200421}, \"300.678204752126\": {\"frequency\": 1, \"value\": 300.678204752126}, \"277.082746478873\": {\"frequency\": 1, \"value\": 277.082746478873}, \"315.539533637094\": {\"frequency\": 1, \"value\": 315.539533637094}, \"298.531966813079\": {\"frequency\": 1, \"value\": 298.531966813079}, \"321.971053933696\": {\"frequency\": 1, \"value\": 321.971053933696}, \"324.135605006954\": {\"frequency\": 1, \"value\": 324.135605006954}, \"283.157212317666\": {\"frequency\": 1, \"value\": 283.157212317666}, \"299.930894308943\": {\"frequency\": 1, \"value\": 299.930894308943}, \"288.686998394863\": {\"frequency\": 1, \"value\": 288.686998394863}, \"255.107858243451\": {\"frequency\": 1, \"value\": 255.107858243451}, \"308.309313913376\": {\"frequency\": 1, \"value\": 308.309313913376}, \"331.070422535211\": {\"frequency\": 1, \"value\": 331.070422535211}, \"295.358508604206\": {\"frequency\": 1, \"value\": 295.358508604206}, \"279.406878802058\": {\"frequency\": 1, \"value\": 279.406878802058}, \"292.818959372772\": {\"frequency\": 1, \"value\": 292.818959372772}, \"292.79207920792\": {\"frequency\": 1, \"value\": 292.79207920792}, \"306.105628373168\": {\"frequency\": 1, \"value\": 306.105628373168}, \"305.196036422067\": {\"frequency\": 1, \"value\": 305.196036422067}, \"280.38195004029\": {\"frequency\": 1, \"value\": 280.38195004029}, \"268.498127340823\": {\"frequency\": 1, \"value\": 268.498127340823}, \"287.491937687892\": {\"frequency\": 1, \"value\": 287.491937687892}, \"284.595838433292\": {\"frequency\": 1, \"value\": 284.595838433292}, \"333.252314123619\": {\"frequency\": 1, \"value\": 333.252314123619}, \"277.225460122699\": {\"frequency\": 1, \"value\": 277.225460122699}, \"325.939572066776\": {\"frequency\": 1, \"value\": 325.939572066776}, \"322.945187601957\": {\"frequency\": 1, \"value\": 322.945187601957}, \"301.960081883316\": {\"frequency\": 1, \"value\": 301.960081883316}}, \"mean\": 299.1276932632421}, \"damu\": {\"std\": 1832.082154664817, \"complete\": true, \"min\": 582.0, \"max\": 7512.0, \"quantile\": [582.0, 594.0, 611.0, 612.0, 644.0, 647.0, 687.0, 712.0, 715.0, 731.0, 736.0, 754.0, 774.0, 789.0, 812.0, 814.0, 815.0, 820.0, 838.0, 844.0, 845.0, 850.0, 857.0, 865.0, 892.0, 900.0, 903.0, 918.0, 961.0, 972.0, 2915.0, 3020.0, 3528.0, 3776.0, 3809.0, 3941.0, 4048.0, 4053.0, 4109.0, 4110.0, 4113.0, 4137.0, 4181.0, 4184.0, 4289.0, 4312.0, 4331.0, 4348.0, 4387.0, 4394.0, 4415.0, 4422.0, 4457.0, 4462.0, 4537.0, 4557.0, 4560.0, 4571.0, 4573.0, 4598.0, 4645.0, 4655.0, 4671.0, 4700.0, 4720.0, 4733.0, 4763.0, 4776.0, 4779.0, 4797.0, 4814.0, 4833.0, 4854.0, 4863.0, 4877.0, 4895.0, 4909.0, 4928.0, 4963.0, 4970.0, 5007.0, 5016.0, 5030.0, 5046.0, 5052.0, 5060.0, 5069.0, 5077.0, 5087.0, 5114.0, 5146.0, 5151.0, 5164.0, 5188.0, 5232.0, 5282.0, 5284.0, 5349.0, 5466.0, 5949.0, 7512.0], \"median\": 4415.0, \"numeric\": true, \"num_unique\": 171, \"num_undefined\": 0, \"var\": 3356525.0214412785, \"progress\": 1.0, \"size\": 179, \"frequent_items\": {\"4105\": {\"frequency\": 1, \"value\": 4105}, \"3595\": {\"frequency\": 1, \"value\": 3595}, \"5132\": {\"frequency\": 1, \"value\": 5132}, \"4109\": {\"frequency\": 1, \"value\": 4109}, \"4110\": {\"frequency\": 2, \"value\": 4110}, \"4113\": {\"frequency\": 1, \"value\": 4113}, \"5146\": {\"frequency\": 1, \"value\": 5146}, \"4635\": {\"frequency\": 1, \"value\": 4635}, \"5151\": {\"frequency\": 1, \"value\": 5151}, \"5153\": {\"frequency\": 1, \"value\": 5153}, \"4645\": {\"frequency\": 1, \"value\": 4645}, \"4137\": {\"frequency\": 1, \"value\": 4137}, \"5164\": {\"frequency\": 1, \"value\": 5164}, \"5166\": {\"frequency\": 1, \"value\": 5166}, \"4655\": {\"frequency\": 1, \"value\": 4655}, \"4154\": {\"frequency\": 1, \"value\": 4154}, \"972\": {\"frequency\": 1, \"value\": 972}, \"4671\": {\"frequency\": 1, \"value\": 4671}, \"4941\": {\"frequency\": 1, \"value\": 4941}, \"5188\": {\"frequency\": 1, \"value\": 5188}, \"582\": {\"frequency\": 1, \"value\": 582}, \"4681\": {\"frequency\": 1, \"value\": 4681}, \"5199\": {\"frequency\": 1, \"value\": 5199}, \"594\": {\"frequency\": 1, \"value\": 594}, \"4963\": {\"frequency\": 1, \"value\": 4963}, \"4181\": {\"frequency\": 1, \"value\": 4181}, \"5049\": {\"frequency\": 1, \"value\": 5049}, \"4184\": {\"frequency\": 1, \"value\": 4184}, \"4700\": {\"frequency\": 1, \"value\": 4700}, \"606\": {\"frequency\": 1, \"value\": 606}, \"1634\": {\"frequency\": 1, \"value\": 1634}, \"611\": {\"frequency\": 2, \"value\": 611}, \"612\": {\"frequency\": 1, \"value\": 612}, \"4713\": {\"frequency\": 1, \"value\": 4713}, \"624\": {\"frequency\": 1, \"value\": 624}, \"4727\": {\"frequency\": 1, \"value\": 4727}, \"4733\": {\"frequency\": 1, \"value\": 4733}, \"704\": {\"frequency\": 1, \"value\": 704}, \"644\": {\"frequency\": 1, \"value\": 644}, \"647\": {\"frequency\": 1, \"value\": 647}, \"4754\": {\"frequency\": 1, \"value\": 4754}, \"4763\": {\"frequency\": 1, \"value\": 4763}, \"4254\": {\"frequency\": 1, \"value\": 4254}, \"4720\": {\"frequency\": 1, \"value\": 4720}, \"5282\": {\"frequency\": 2, \"value\": 5282}, \"4123\": {\"frequency\": 1, \"value\": 4123}, \"5284\": {\"frequency\": 1, \"value\": 5284}, \"4776\": {\"frequency\": 1, \"value\": 4776}, \"4779\": {\"frequency\": 2, \"value\": 4779}, \"686\": {\"frequency\": 1, \"value\": 686}, \"687\": {\"frequency\": 1, \"value\": 687}, \"5296\": {\"frequency\": 1, \"value\": 5296}, \"4788\": {\"frequency\": 1, \"value\": 4788}, \"4797\": {\"frequency\": 1, \"value\": 4797}, \"3776\": {\"frequency\": 1, \"value\": 3776}, \"4289\": {\"frequency\": 1, \"value\": 4289}, \"4806\": {\"frequency\": 1, \"value\": 4806}, \"712\": {\"frequency\": 1, \"value\": 712}, \"713\": {\"frequency\": 1, \"value\": 713}, \"715\": {\"frequency\": 1, \"value\": 715}, \"4814\": {\"frequency\": 1, \"value\": 4814}, \"5069\": {\"frequency\": 1, \"value\": 5069}, \"718\": {\"frequency\": 1, \"value\": 718}, \"4311\": {\"frequency\": 1, \"value\": 4311}, \"4312\": {\"frequency\": 1, \"value\": 4312}, \"4826\": {\"frequency\": 1, \"value\": 4826}, \"731\": {\"frequency\": 1, \"value\": 731}, \"736\": {\"frequency\": 1, \"value\": 736}, \"4833\": {\"frequency\": 1, \"value\": 4833}, \"740\": {\"frequency\": 1, \"value\": 740}, \"5349\": {\"frequency\": 1, \"value\": 5349}, \"4331\": {\"frequency\": 2, \"value\": 4331}, \"754\": {\"frequency\": 1, \"value\": 754}, \"4560\": {\"frequency\": 1, \"value\": 4560}, \"4854\": {\"frequency\": 1, \"value\": 4854}, \"4649\": {\"frequency\": 1, \"value\": 4649}, \"4052\": {\"frequency\": 1, \"value\": 4052}, \"4859\": {\"frequency\": 1, \"value\": 4859}, \"4348\": {\"frequency\": 1, \"value\": 4348}, \"5077\": {\"frequency\": 1, \"value\": 5077}, \"771\": {\"frequency\": 1, \"value\": 771}, \"774\": {\"frequency\": 1, \"value\": 774}, \"4396\": {\"frequency\": 1, \"value\": 4396}, \"4874\": {\"frequency\": 1, \"value\": 4874}, \"779\": {\"frequency\": 1, \"value\": 779}, \"4877\": {\"frequency\": 1, \"value\": 4877}, \"789\": {\"frequency\": 1, \"value\": 789}, \"4893\": {\"frequency\": 1, \"value\": 4893}, \"4895\": {\"frequency\": 1, \"value\": 4895}, \"4897\": {\"frequency\": 1, \"value\": 4897}, \"4387\": {\"frequency\": 1, \"value\": 4387}, \"805\": {\"frequency\": 1, \"value\": 805}, \"4393\": {\"frequency\": 1, \"value\": 4393}, \"4394\": {\"frequency\": 1, \"value\": 4394}, \"3883\": {\"frequency\": 1, \"value\": 3883}, \"812\": {\"frequency\": 1, \"value\": 812}, \"4909\": {\"frequency\": 1, \"value\": 4909}, \"814\": {\"frequency\": 2, \"value\": 814}, \"815\": {\"frequency\": 1, \"value\": 815}, \"817\": {\"frequency\": 1, \"value\": 817}, \"5428\": {\"frequency\": 1, \"value\": 5428}, \"820\": {\"frequency\": 1, \"value\": 820}, \"5949\": {\"frequency\": 1, \"value\": 5949}, \"4415\": {\"frequency\": 1, \"value\": 4415}, \"4928\": {\"frequency\": 1, \"value\": 4928}, \"834\": {\"frequency\": 1, \"value\": 834}, \"2943\": {\"frequency\": 1, \"value\": 2943}, \"4421\": {\"frequency\": 1, \"value\": 4421}, \"838\": {\"frequency\": 2, \"value\": 838}, \"3809\": {\"frequency\": 1, \"value\": 3809}, \"844\": {\"frequency\": 1, \"value\": 844}, \"845\": {\"frequency\": 1, \"value\": 845}, \"848\": {\"frequency\": 1, \"value\": 848}, \"850\": {\"frequency\": 1, \"value\": 850}, \"854\": {\"frequency\": 1, \"value\": 854}, \"7512\": {\"frequency\": 1, \"value\": 7512}, \"857\": {\"frequency\": 1, \"value\": 857}, \"5466\": {\"frequency\": 1, \"value\": 5466}, \"4445\": {\"frequency\": 1, \"value\": 4445}, \"863\": {\"frequency\": 1, \"value\": 863}, \"865\": {\"frequency\": 1, \"value\": 865}, \"2915\": {\"frequency\": 1, \"value\": 2915}, \"3941\": {\"frequency\": 1, \"value\": 3941}, \"4966\": {\"frequency\": 1, \"value\": 4966}, \"4457\": {\"frequency\": 1, \"value\": 4457}, \"4970\": {\"frequency\": 1, \"value\": 4970}, \"4462\": {\"frequency\": 1, \"value\": 4462}, \"892\": {\"frequency\": 1, \"value\": 892}, \"895\": {\"frequency\": 1, \"value\": 895}, \"900\": {\"frequency\": 1, \"value\": 900}, \"903\": {\"frequency\": 2, \"value\": 903}, \"905\": {\"frequency\": 1, \"value\": 905}, \"5005\": {\"frequency\": 1, \"value\": 5005}, \"5007\": {\"frequency\": 1, \"value\": 5007}, \"3476\": {\"frequency\": 1, \"value\": 3476}, \"918\": {\"frequency\": 1, \"value\": 918}, \"5016\": {\"frequency\": 1, \"value\": 5016}, \"929\": {\"frequency\": 1, \"value\": 929}, \"4422\": {\"frequency\": 1, \"value\": 4422}, \"5030\": {\"frequency\": 1, \"value\": 5030}, \"5034\": {\"frequency\": 1, \"value\": 5034}, \"4533\": {\"frequency\": 1, \"value\": 4533}, \"5046\": {\"frequency\": 1, \"value\": 5046}, \"4537\": {\"frequency\": 1, \"value\": 4537}, \"5052\": {\"frequency\": 1, \"value\": 5052}, \"5055\": {\"frequency\": 1, \"value\": 5055}, \"961\": {\"frequency\": 1, \"value\": 961}, \"4546\": {\"frequency\": 1, \"value\": 4546}, \"5060\": {\"frequency\": 1, \"value\": 5060}, \"3528\": {\"frequency\": 1, \"value\": 3528}, \"5232\": {\"frequency\": 1, \"value\": 5232}, \"3020\": {\"frequency\": 1, \"value\": 3020}, \"4557\": {\"frequency\": 1, \"value\": 4557}, \"4559\": {\"frequency\": 1, \"value\": 4559}, \"4048\": {\"frequency\": 1, \"value\": 4048}, \"5075\": {\"frequency\": 1, \"value\": 5075}, \"4564\": {\"frequency\": 1, \"value\": 4564}, \"4053\": {\"frequency\": 1, \"value\": 4053}, \"4345\": {\"frequency\": 1, \"value\": 4345}, \"5593\": {\"frequency\": 1, \"value\": 5593}, \"4571\": {\"frequency\": 1, \"value\": 4571}, \"4573\": {\"frequency\": 1, \"value\": 4573}, \"5086\": {\"frequency\": 1, \"value\": 5086}, \"5087\": {\"frequency\": 1, \"value\": 5087}, \"4581\": {\"frequency\": 1, \"value\": 4581}, \"5102\": {\"frequency\": 1, \"value\": 5102}, \"4598\": {\"frequency\": 1, \"value\": 4598}, \"4006\": {\"frequency\": 1, \"value\": 4006}, \"5029\": {\"frequency\": 1, \"value\": 5029}, \"5114\": {\"frequency\": 1, \"value\": 5114}, \"4863\": {\"frequency\": 1, \"value\": 4863}}, \"mean\": 3522.6033519553075}}, \"selected_variable\": {\"name\": [\"<SFrame>\"], \"descriptives\": {\"rows\": 179, \"columns\": 2}, \"view_component\": \"Summary\", \"view_file\": \"sframe\", \"view_params\": {\"y\": null, \"x\": null, \"columns\": [\"avg_session_time\", \"damu\"], \"view\": null}, \"view_components\": [\"Summary\", \"Table\", \"Bar Chart\", \"BoxWhisker Plot\", \"Line Chart\", \"Scatter Plot\", \"Heat Map\", \"Plots\"], \"type\": \"SFrame\", \"columns\": [{\"dtype\": \"float\", \"name\": \"avg_session_time\"}, {\"dtype\": \"int\", \"name\": \"damu\"}], \"column_identifiers\": [\"avg_session_time\", \"damu\"]}, \"columns\": [{\"dtype\": \"float\", \"name\": \"avg_session_time\"}, {\"dtype\": \"int\", \"name\": \"damu\"}]}, e);\n",
       "                });\n",
       "            })();\n",
       "        "
      ]
     },
     "metadata": {},
     "output_type": "display_data"
    }
   ],
   "source": [
    "data[new_features].show()"
   ]
  },
  {
   "cell_type": "markdown",
   "metadata": {},
   "source": [
    "## Building a new model using new features"
   ]
  },
  {
   "cell_type": "code",
   "execution_count": 19,
   "metadata": {
    "collapsed": false
   },
   "outputs": [
    {
     "name": "stdout",
     "output_type": "stream",
     "text": [
      "PROGRESS: Creating a validation set from 5 percent of training data. This may take a while.\n",
      "          You can set ``validation_set=None`` to disable validation tracking.\n",
      "\n"
     ]
    },
    {
     "data": {
      "text/html": [
       "<pre>Linear regression:</pre>"
      ],
      "text/plain": [
       "Linear regression:"
      ]
     },
     "metadata": {},
     "output_type": "display_data"
    },
    {
     "data": {
      "text/html": [
       "<pre>--------------------------------------------------------</pre>"
      ],
      "text/plain": [
       "--------------------------------------------------------"
      ]
     },
     "metadata": {},
     "output_type": "display_data"
    },
    {
     "data": {
      "text/html": [
       "<pre>Number of examples          : 144</pre>"
      ],
      "text/plain": [
       "Number of examples          : 144"
      ]
     },
     "metadata": {},
     "output_type": "display_data"
    },
    {
     "data": {
      "text/html": [
       "<pre>Number of features          : 2</pre>"
      ],
      "text/plain": [
       "Number of features          : 2"
      ]
     },
     "metadata": {},
     "output_type": "display_data"
    },
    {
     "data": {
      "text/html": [
       "<pre>Number of unpacked features : 2</pre>"
      ],
      "text/plain": [
       "Number of unpacked features : 2"
      ]
     },
     "metadata": {},
     "output_type": "display_data"
    },
    {
     "data": {
      "text/html": [
       "<pre>Number of coefficients    : 3</pre>"
      ],
      "text/plain": [
       "Number of coefficients    : 3"
      ]
     },
     "metadata": {},
     "output_type": "display_data"
    },
    {
     "data": {
      "text/html": [
       "<pre>Starting Newton Method</pre>"
      ],
      "text/plain": [
       "Starting Newton Method"
      ]
     },
     "metadata": {},
     "output_type": "display_data"
    },
    {
     "data": {
      "text/html": [
       "<pre>--------------------------------------------------------</pre>"
      ],
      "text/plain": [
       "--------------------------------------------------------"
      ]
     },
     "metadata": {},
     "output_type": "display_data"
    },
    {
     "data": {
      "text/html": [
       "<pre>+-----------+----------+--------------+--------------------+----------------------+---------------+-----------------+</pre>"
      ],
      "text/plain": [
       "+-----------+----------+--------------+--------------------+----------------------+---------------+-----------------+"
      ]
     },
     "metadata": {},
     "output_type": "display_data"
    },
    {
     "data": {
      "text/html": [
       "<pre>| Iteration | Passes   | Elapsed Time | Training-max_error | Validation-max_error | Training-rmse | Validation-rmse |</pre>"
      ],
      "text/plain": [
       "| Iteration | Passes   | Elapsed Time | Training-max_error | Validation-max_error | Training-rmse | Validation-rmse |"
      ]
     },
     "metadata": {},
     "output_type": "display_data"
    },
    {
     "data": {
      "text/html": [
       "<pre>+-----------+----------+--------------+--------------------+----------------------+---------------+-----------------+</pre>"
      ],
      "text/plain": [
       "+-----------+----------+--------------+--------------------+----------------------+---------------+-----------------+"
      ]
     },
     "metadata": {},
     "output_type": "display_data"
    },
    {
     "data": {
      "text/html": [
       "<pre>| 1         | 2        | 0.007901     | 15.676104          | 4.683659             | 2.999413      | 3.203173        |</pre>"
      ],
      "text/plain": [
       "| 1         | 2        | 0.007901     | 15.676104          | 4.683659             | 2.999413      | 3.203173        |"
      ]
     },
     "metadata": {},
     "output_type": "display_data"
    },
    {
     "data": {
      "text/html": [
       "<pre>+-----------+----------+--------------+--------------------+----------------------+---------------+-----------------+</pre>"
      ],
      "text/plain": [
       "+-----------+----------+--------------+--------------------+----------------------+---------------+-----------------+"
      ]
     },
     "metadata": {},
     "output_type": "display_data"
    },
    {
     "data": {
      "text/html": [
       "<pre>SUCCESS: Optimal solution found.</pre>"
      ],
      "text/plain": [
       "SUCCESS: Optimal solution found."
      ]
     },
     "metadata": {},
     "output_type": "display_data"
    },
    {
     "data": {
      "text/html": [
       "<pre></pre>"
      ],
      "text/plain": []
     },
     "metadata": {},
     "output_type": "display_data"
    }
   ],
   "source": [
    "new_model = graphlab.linear_regression.create(train_data,target='max_usage_per_minute',features=new_features)"
   ]
  },
  {
   "cell_type": "code",
   "execution_count": 20,
   "metadata": {
    "collapsed": false
   },
   "outputs": [
    {
     "name": "stdout",
     "output_type": "stream",
     "text": [
      "{'max_error': 5.943234612298475, 'rmse': 2.9283343410423415}\n",
      "{'max_error': 7.6157568380996565, 'rmse': 3.19562356009959}\n"
     ]
    }
   ],
   "source": [
    "print model.evaluate(test_data)\n",
    "print new_model.evaluate(test_data)"
   ]
  },
  {
   "cell_type": "markdown",
   "metadata": {},
   "source": [
    "# Applying model to data"
   ]
  },
  {
   "cell_type": "code",
   "execution_count": 31,
   "metadata": {
    "collapsed": false
   },
   "outputs": [],
   "source": [
    "first_row_data = data[data['sessions'] == 2609]   "
   ]
  },
  {
   "cell_type": "code",
   "execution_count": 32,
   "metadata": {
    "collapsed": false
   },
   "outputs": [
    {
     "data": {
      "text/html": [
       "<div style=\"max-height:1000px;max-width:1500px;overflow:auto;\"><table frame=\"box\" rules=\"cols\">\n",
       "    <tr>\n",
       "        <th style=\"padding-left: 1em; padding-right: 1em; text-align: center\">sessions</th>\n",
       "        <th style=\"padding-left: 1em; padding-right: 1em; text-align: center\">avg_session_time</th>\n",
       "        <th style=\"padding-left: 1em; padding-right: 1em; text-align: center\">damu</th>\n",
       "        <th style=\"padding-left: 1em; padding-right: 1em; text-align: center\">max_usage_per_minute</th>\n",
       "    </tr>\n",
       "    <tr>\n",
       "        <td style=\"padding-left: 1em; padding-right: 1em; text-align: center; vertical-align: top\">2609</td>\n",
       "        <td style=\"padding-left: 1em; padding-right: 1em; text-align: center; vertical-align: top\">308.309313913</td>\n",
       "        <td style=\"padding-left: 1em; padding-right: 1em; text-align: center; vertical-align: top\">3528</td>\n",
       "        <td style=\"padding-left: 1em; padding-right: 1em; text-align: center; vertical-align: top\">27</td>\n",
       "    </tr>\n",
       "</table>\n",
       "[? rows x 4 columns]<br/>Note: Only the head of the SFrame is printed. This SFrame is lazily evaluated.<br/>You can use sf.materialize() to force materialization.\n",
       "</div>"
      ],
      "text/plain": [
       "Columns:\n",
       "\tsessions\tint\n",
       "\tavg_session_time\tfloat\n",
       "\tdamu\tint\n",
       "\tmax_usage_per_minute\tint\n",
       "\n",
       "Rows: Unknown\n",
       "\n",
       "Data:\n",
       "+----------+------------------+------+----------------------+\n",
       "| sessions | avg_session_time | damu | max_usage_per_minute |\n",
       "+----------+------------------+------+----------------------+\n",
       "|   2609   |  308.309313913   | 3528 |          27          |\n",
       "+----------+------------------+------+----------------------+\n",
       "[? rows x 4 columns]\n",
       "Note: Only the head of the SFrame is printed. This SFrame is lazily evaluated.\n",
       "You can use sf.materialize() to force materialization."
      ]
     },
     "execution_count": 32,
     "metadata": {},
     "output_type": "execute_result"
    }
   ],
   "source": [
    "first_row_data"
   ]
  },
  {
   "cell_type": "code",
   "execution_count": 33,
   "metadata": {
    "collapsed": false
   },
   "outputs": [
    {
     "name": "stdout",
     "output_type": "stream",
     "text": [
      "[27, ... ]\n"
     ]
    }
   ],
   "source": [
    "print first_row_data['max_usage_per_minute']"
   ]
  },
  {
   "cell_type": "markdown",
   "metadata": {},
   "source": [
    "## Predicting values of first row data"
   ]
  },
  {
   "cell_type": "code",
   "execution_count": 34,
   "metadata": {
    "collapsed": false
   },
   "outputs": [
    {
     "name": "stdout",
     "output_type": "stream",
     "text": [
      "[26.345730011907683]\n"
     ]
    }
   ],
   "source": [
    "print model.predict(first_row_data)"
   ]
  },
  {
   "cell_type": "code",
   "execution_count": 35,
   "metadata": {
    "collapsed": false
   },
   "outputs": [
    {
     "name": "stdout",
     "output_type": "stream",
     "text": [
      "[29.157913176756395]\n"
     ]
    }
   ],
   "source": [
    "print new_model.predict(first_row_data)"
   ]
  },
  {
   "cell_type": "code",
   "execution_count": null,
   "metadata": {
    "collapsed": true
   },
   "outputs": [],
   "source": []
  }
 ],
 "metadata": {
  "kernelspec": {
   "display_name": "Python 2",
   "language": "python",
   "name": "python2"
  },
  "language_info": {
   "codemirror_mode": {
    "name": "ipython",
    "version": 2
   },
   "file_extension": ".py",
   "mimetype": "text/x-python",
   "name": "python",
   "nbconvert_exporter": "python",
   "pygments_lexer": "ipython2",
   "version": "2.7.11"
  }
 },
 "nbformat": 4,
 "nbformat_minor": 0
}
